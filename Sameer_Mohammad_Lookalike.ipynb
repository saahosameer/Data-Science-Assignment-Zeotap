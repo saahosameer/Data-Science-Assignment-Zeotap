{
 "cells": [
  {
   "cell_type": "markdown",
   "id": "7f548b1e",
   "metadata": {},
   "source": [
    "# Step 1: Prepare the Data\n",
    "# Step 1.1: Merge Customer and Transaction Data"
   ]
  },
  {
   "cell_type": "code",
   "execution_count": 4,
   "id": "1cf7b6b3",
   "metadata": {},
   "outputs": [
    {
     "name": "stdout",
     "output_type": "stream",
     "text": [
      "  CustomerID      CustomerName         Region  SignupDate TransactionID  \\\n",
      "0      C0001  Lawrence Carroll  South America  2022-07-10        T00015   \n",
      "1      C0001  Lawrence Carroll  South America  2022-07-10        T00932   \n",
      "2      C0001  Lawrence Carroll  South America  2022-07-10        T00085   \n",
      "3      C0001  Lawrence Carroll  South America  2022-07-10        T00445   \n",
      "4      C0001  Lawrence Carroll  South America  2022-07-10        T00436   \n",
      "\n",
      "  ProductID      TransactionDate  Quantity  TotalValue   Price  \n",
      "0      P054  2024-01-19 03:12:55         2      114.60   57.30  \n",
      "1      P022  2024-09-17 09:01:18         3      412.62  137.54  \n",
      "2      P096  2024-04-08 00:01:00         2      614.94  307.47  \n",
      "3      P083  2024-05-07 03:11:44         2      911.44  455.72  \n",
      "4      P029  2024-11-02 17:04:16         3     1300.92  433.64  \n"
     ]
    }
   ],
   "source": [
    "import pandas as pd\n",
    "\n",
    "# Load the datasets\n",
    "customers_df = pd.read_csv(\"Customers.csv\")\n",
    "products_df = pd.read_csv(\"Products.csv\")\n",
    "transactions_df = pd.read_csv(\"Transactions.csv\")\n",
    "\n",
    "# Merge Customers and Transactions data\n",
    "customer_transactions = pd.merge(customers_df, transactions_df, on=\"CustomerID\")\n",
    "\n",
    "# Display the merged data\n",
    "print(customer_transactions.head())"
   ]
  },
  {
   "cell_type": "markdown",
   "id": "6bf39589",
   "metadata": {},
   "source": [
    "# Step 1.2: Aggregate Transaction Data "
   ]
  },
  {
   "cell_type": "code",
   "execution_count": 5,
   "id": "4507c27a",
   "metadata": {},
   "outputs": [
    {
     "name": "stdout",
     "output_type": "stream",
     "text": [
      "  CustomerID  TotalTransactions  TotalSpent  TotalQuantity FavoriteProduct\n",
      "0      C0001                  5     3354.52             12            P022\n",
      "1      C0002                  4     1862.74             10            P004\n",
      "2      C0003                  4     2725.38             14            P002\n",
      "3      C0004                  8     5354.88             23            P008\n",
      "4      C0005                  3     2034.24              7            P012\n"
     ]
    }
   ],
   "source": [
    "# Aggregate transaction data for each customer\n",
    "customer_aggregated = customer_transactions.groupby('CustomerID').agg({\n",
    "    'TransactionID': 'count',  # Total number of transactions\n",
    "    'TotalValue': 'sum',       # Total amount spent\n",
    "    'Quantity': 'sum',         # Total quantity purchased\n",
    "    'ProductID': lambda x: x.mode()[0]  # Most frequently purchased product\n",
    "}).reset_index()\n",
    "\n",
    "# Rename columns for clarity\n",
    "customer_aggregated.rename(columns={\n",
    "    'TransactionID': 'TotalTransactions',\n",
    "    'TotalValue': 'TotalSpent',\n",
    "    'Quantity': 'TotalQuantity',\n",
    "    'ProductID': 'FavoriteProduct'\n",
    "}, inplace=True)\n",
    "\n",
    "# Display the aggregated data\n",
    "print(customer_aggregated.head())"
   ]
  },
  {
   "cell_type": "markdown",
   "id": "857869ca",
   "metadata": {},
   "source": [
    "# Step 1.3: Merge Aggregated Data with Customer Profiles"
   ]
  },
  {
   "cell_type": "code",
   "execution_count": 6,
   "id": "b31051be",
   "metadata": {},
   "outputs": [
    {
     "name": "stdout",
     "output_type": "stream",
     "text": [
      "  CustomerID        CustomerName         Region  SignupDate  \\\n",
      "0      C0001    Lawrence Carroll  South America  2022-07-10   \n",
      "1      C0002      Elizabeth Lutz           Asia  2022-02-13   \n",
      "2      C0003      Michael Rivera  South America  2024-03-07   \n",
      "3      C0004  Kathleen Rodriguez  South America  2022-10-09   \n",
      "4      C0005         Laura Weber           Asia  2022-08-15   \n",
      "\n",
      "   TotalTransactions  TotalSpent  TotalQuantity FavoriteProduct  \n",
      "0                  5     3354.52             12            P022  \n",
      "1                  4     1862.74             10            P004  \n",
      "2                  4     2725.38             14            P002  \n",
      "3                  8     5354.88             23            P008  \n",
      "4                  3     2034.24              7            P012  \n"
     ]
    }
   ],
   "source": [
    "# Merge aggregated data with customer profiles\n",
    "customer_profiles = pd.merge(customers_df, customer_aggregated, on=\"CustomerID\")\n",
    "\n",
    "# Display the final customer profiles\n",
    "print(customer_profiles.head())"
   ]
  },
  {
   "cell_type": "markdown",
   "id": "57219fa4",
   "metadata": {},
   "source": [
    "# Step 2: Feature Engineering\n",
    "# Step 2.1: Encode Categorical Variables"
   ]
  },
  {
   "cell_type": "code",
   "execution_count": 7,
   "id": "ea586885",
   "metadata": {},
   "outputs": [
    {
     "name": "stdout",
     "output_type": "stream",
     "text": [
      "  CustomerID        CustomerName  SignupDate  TotalTransactions  TotalSpent  \\\n",
      "0      C0001    Lawrence Carroll  2022-07-10                  5     3354.52   \n",
      "1      C0002      Elizabeth Lutz  2022-02-13                  4     1862.74   \n",
      "2      C0003      Michael Rivera  2024-03-07                  4     2725.38   \n",
      "3      C0004  Kathleen Rodriguez  2022-10-09                  8     5354.88   \n",
      "4      C0005         Laura Weber  2022-08-15                  3     2034.24   \n",
      "\n",
      "   TotalQuantity  Region_Asia  Region_Europe  Region_North America  \\\n",
      "0             12        False          False                 False   \n",
      "1             10         True          False                 False   \n",
      "2             14        False          False                 False   \n",
      "3             23        False          False                 False   \n",
      "4              7         True          False                 False   \n",
      "\n",
      "   Region_South America  ...  FavoriteProduct_P076  FavoriteProduct_P078  \\\n",
      "0                  True  ...                 False                 False   \n",
      "1                 False  ...                 False                 False   \n",
      "2                  True  ...                 False                 False   \n",
      "3                  True  ...                 False                 False   \n",
      "4                 False  ...                 False                 False   \n",
      "\n",
      "   FavoriteProduct_P079  FavoriteProduct_P080  FavoriteProduct_P081  \\\n",
      "0                 False                 False                 False   \n",
      "1                 False                 False                 False   \n",
      "2                 False                 False                 False   \n",
      "3                 False                 False                 False   \n",
      "4                 False                 False                 False   \n",
      "\n",
      "   FavoriteProduct_P082  FavoriteProduct_P087  FavoriteProduct_P094  \\\n",
      "0                 False                 False                 False   \n",
      "1                 False                 False                 False   \n",
      "2                 False                 False                 False   \n",
      "3                 False                 False                 False   \n",
      "4                 False                 False                 False   \n",
      "\n",
      "   FavoriteProduct_P096  FavoriteProduct_P100  \n",
      "0                 False                 False  \n",
      "1                 False                 False  \n",
      "2                 False                 False  \n",
      "3                 False                 False  \n",
      "4                 False                 False  \n",
      "\n",
      "[5 rows x 80 columns]\n"
     ]
    }
   ],
   "source": [
    "# One-hot encode categorical variables\n",
    "customer_profiles_encoded = pd.get_dummies(customer_profiles, columns=['Region', 'FavoriteProduct'])\n",
    "\n",
    "# Display the encoded data\n",
    "print(customer_profiles_encoded.head())"
   ]
  },
  {
   "cell_type": "markdown",
   "id": "9310d262",
   "metadata": {},
   "source": [
    "# Step 2.2: Normalize Numerical Features"
   ]
  },
  {
   "cell_type": "code",
   "execution_count": 8,
   "id": "35626608",
   "metadata": {},
   "outputs": [
    {
     "name": "stdout",
     "output_type": "stream",
     "text": [
      "  CustomerID        CustomerName  SignupDate  TotalTransactions  TotalSpent  \\\n",
      "0      C0001    Lawrence Carroll  2022-07-10                0.4    0.308942   \n",
      "1      C0002      Elizabeth Lutz  2022-02-13                0.3    0.168095   \n",
      "2      C0003      Michael Rivera  2024-03-07                0.3    0.249541   \n",
      "3      C0004  Kathleen Rodriguez  2022-10-09                0.7    0.497806   \n",
      "4      C0005         Laura Weber  2022-08-15                0.2    0.184287   \n",
      "\n",
      "   TotalQuantity  Region_Asia  Region_Europe  Region_North America  \\\n",
      "0       0.354839        False          False                 False   \n",
      "1       0.290323         True          False                 False   \n",
      "2       0.419355        False          False                 False   \n",
      "3       0.709677        False          False                 False   \n",
      "4       0.193548         True          False                 False   \n",
      "\n",
      "   Region_South America  ...  FavoriteProduct_P076  FavoriteProduct_P078  \\\n",
      "0                  True  ...                 False                 False   \n",
      "1                 False  ...                 False                 False   \n",
      "2                  True  ...                 False                 False   \n",
      "3                  True  ...                 False                 False   \n",
      "4                 False  ...                 False                 False   \n",
      "\n",
      "   FavoriteProduct_P079  FavoriteProduct_P080  FavoriteProduct_P081  \\\n",
      "0                 False                 False                 False   \n",
      "1                 False                 False                 False   \n",
      "2                 False                 False                 False   \n",
      "3                 False                 False                 False   \n",
      "4                 False                 False                 False   \n",
      "\n",
      "   FavoriteProduct_P082  FavoriteProduct_P087  FavoriteProduct_P094  \\\n",
      "0                 False                 False                 False   \n",
      "1                 False                 False                 False   \n",
      "2                 False                 False                 False   \n",
      "3                 False                 False                 False   \n",
      "4                 False                 False                 False   \n",
      "\n",
      "   FavoriteProduct_P096  FavoriteProduct_P100  \n",
      "0                 False                 False  \n",
      "1                 False                 False  \n",
      "2                 False                 False  \n",
      "3                 False                 False  \n",
      "4                 False                 False  \n",
      "\n",
      "[5 rows x 80 columns]\n"
     ]
    }
   ],
   "source": [
    "from sklearn.preprocessing import MinMaxScaler\n",
    "\n",
    "# Normalize numerical features\n",
    "scaler = MinMaxScaler()\n",
    "numerical_features = ['TotalSpent', 'TotalTransactions', 'TotalQuantity']\n",
    "customer_profiles_encoded[numerical_features] = scaler.fit_transform(customer_profiles_encoded[numerical_features])\n",
    "\n",
    "# Display the normalized data\n",
    "print(customer_profiles_encoded.head())"
   ]
  },
  {
   "cell_type": "markdown",
   "id": "ba305b4c",
   "metadata": {},
   "source": [
    "# Step 3: Calculate Similarity Scores\n",
    "# Step 3.1: Compute Cosine Similarity"
   ]
  },
  {
   "cell_type": "code",
   "execution_count": 9,
   "id": "f91be956",
   "metadata": {},
   "outputs": [
    {
     "name": "stdout",
     "output_type": "stream",
     "text": [
      "CustomerID     C0001     C0002     C0003     C0004     C0005     C0006  \\\n",
      "CustomerID                                                               \n",
      "C0001       1.000000  0.120054  0.571605  0.606703  0.091696  0.575453   \n",
      "C0002       0.120054  1.000000  0.112033  0.187021  0.531958  0.113298   \n",
      "C0003       0.571605  0.112033  1.000000  0.594021  0.084412  0.569068   \n",
      "C0004       0.606703  0.187021  0.594021  1.000000  0.141085  0.597820   \n",
      "C0005       0.091696  0.531958  0.084412  0.141085  1.000000  0.089783   \n",
      "\n",
      "CustomerID     C0007     C0008     C0009     C0010  ...     C0191     C0192  \\\n",
      "CustomerID                                          ...                       \n",
      "C0001       0.103043  0.248014  0.057316  0.127132  ...  0.575940  0.552677   \n",
      "C0002       0.535872  0.558183  0.043131  0.098587  ...  0.114497  0.085478   \n",
      "C0003       0.095519  0.224321  0.048628  0.121449  ...  0.567259  0.547144   \n",
      "C0004       0.158325  0.383382  0.086914  0.199921  ...  0.597665  0.551127   \n",
      "C0005       0.529448  0.139856  0.032037  0.072256  ...  0.086906  0.064534   \n",
      "\n",
      "CustomerID     C0193     C0194     C0195     C0196     C0197     C0198  \\\n",
      "CustomerID                                                               \n",
      "C0001       0.137552  0.198232  0.595859  0.161648  0.099929  0.039967   \n",
      "C0002       0.550081  0.149390  0.149922  0.117050  0.075696  0.029490   \n",
      "C0003       0.127979  0.178727  0.586997  0.148943  0.094920  0.035533   \n",
      "C0004       0.212507  0.304787  0.648298  0.246619  0.155750  0.060843   \n",
      "C0005       0.535909  0.112608  0.113468  0.094452  0.057468  0.022884   \n",
      "\n",
      "CustomerID     C0199     C0200  \n",
      "CustomerID                      \n",
      "C0001       0.116909  0.188518  \n",
      "C0002       0.088827  0.558918  \n",
      "C0003       0.107611  0.176401  \n",
      "C0004       0.556513  0.291057  \n",
      "C0005       0.066499  0.536773  \n",
      "\n",
      "[5 rows x 199 columns]\n"
     ]
    }
   ],
   "source": [
    "from sklearn.metrics.pairwise import cosine_similarity\n",
    "\n",
    "# Drop non-relevant columns (e.g., CustomerID, CustomerName, SignupDate)\n",
    "customer_features = customer_profiles_encoded.drop(columns=['CustomerID', 'CustomerName', 'SignupDate'])\n",
    "\n",
    "# Compute cosine similarity matrix\n",
    "similarity_matrix = cosine_similarity(customer_features)\n",
    "\n",
    "# Convert the similarity matrix to a DataFrame for easier interpretation\n",
    "similarity_df = pd.DataFrame(similarity_matrix, index=customer_profiles_encoded['CustomerID'], columns=customer_profiles_encoded['CustomerID'])\n",
    "\n",
    "# Display the similarity matrix\n",
    "print(similarity_df.head())"
   ]
  },
  {
   "cell_type": "markdown",
   "id": "4d4d68ff",
   "metadata": {},
   "source": [
    "# Step 3.2: Find Top 3 Lookalikes"
   ]
  },
  {
   "cell_type": "code",
   "execution_count": 10,
   "id": "9a5f8fe1",
   "metadata": {},
   "outputs": [
    {
     "name": "stdout",
     "output_type": "stream",
     "text": [
      "Top 3 lookalikes for C0001:\n",
      "CustomerID\n",
      "C0025    0.989184\n",
      "C0104    0.607483\n",
      "C0102    0.607464\n",
      "Name: C0001, dtype: float64\n"
     ]
    }
   ],
   "source": [
    "# Function to get top 3 lookalikes for a given customer\n",
    "def get_top_lookalikes(customer_id, similarity_df, top_n=3):\n",
    "    # Get the similarity scores for the given customer\n",
    "    customer_similarity = similarity_df[customer_id]\n",
    "    \n",
    "    # Sort the similarity scores in descending order\n",
    "    sorted_similarity = customer_similarity.sort_values(ascending=False)\n",
    "    \n",
    "    # Exclude the customer themselves and get the top N lookalikes\n",
    "    top_lookalikes = sorted_similarity.iloc[1:top_n+1]\n",
    "    \n",
    "    return top_lookalikes\n",
    "\n",
    "# Example: Get top 3 lookalikes for the first customer (CustomerID: C0001)\n",
    "customer_id = 'C0001'\n",
    "top_lookalikes = get_top_lookalikes(customer_id, similarity_df)\n",
    "print(f\"Top 3 lookalikes for {customer_id}:\")\n",
    "print(top_lookalikes)"
   ]
  },
  {
   "cell_type": "markdown",
   "id": "72c2d967",
   "metadata": {},
   "source": [
    "# Step 4: Generate Lookalike Recommendations for the First 20 Customers"
   ]
  },
  {
   "cell_type": "code",
   "execution_count": 11,
   "id": "8293840d",
   "metadata": {},
   "outputs": [
    {
     "name": "stdout",
     "output_type": "stream",
     "text": [
      "   CustomerID                                         Lookalikes\n",
      "0       C0001  [(C0025, 0.9891841805968491), (C0104, 0.607483...\n",
      "1       C0002  [(C0173, 0.9399021203436735), (C0090, 0.563642...\n",
      "2       C0003  [(C0031, 0.9956637935839785), (C0181, 0.991895...\n",
      "3       C0004  [(C0165, 0.7124725375508373), (C0175, 0.710029...\n",
      "4       C0005  [(C0149, 0.537584045138385), (C0056, 0.5374299...\n",
      "5       C0006  [(C0082, 0.6052527949753345), (C0087, 0.603576...\n",
      "6       C0007  [(C0200, 0.5486261920266132), (C0138, 0.548261...\n",
      "7       C0008  [(C0030, 0.9567774935305903), (C0109, 0.719438...\n",
      "8       C0009  [(C0119, 0.5175888779684555), (C0103, 0.516952...\n",
      "9       C0010  [(C0124, 0.5724172208295376), (C0017, 0.571854...\n",
      "10      C0011  [(C0171, 0.996146048118673), (C0188, 0.6167672...\n",
      "11      C0012  [(C0133, 0.9684906209735875), (C0165, 0.687492...\n",
      "12      C0013  [(C0165, 0.6873913170683321), (C0188, 0.679909...\n",
      "13      C0014  [(C0060, 0.500197803213111), (C0198, 0.4991787...\n",
      "14      C0015  [(C0131, 0.5107573188483062), (C0042, 0.510689...\n",
      "15      C0016  [(C0046, 0.9777712439884384), (C0059, 0.605028...\n",
      "16      C0017  [(C0105, 0.9911690126965916), (C0019, 0.971160...\n",
      "17      C0018  [(C0026, 0.9899867934679127), (C0049, 0.973722...\n",
      "18      C0019  [(C0105, 0.984410894493983), (C0017, 0.9711608...\n",
      "19      C0020  [(C0015, 0.5021164695252804), (C0144, 0.501300...\n"
     ]
    }
   ],
   "source": [
    "# Initialize a dictionary to store lookalike recommendations\n",
    "lookalike_recommendations = {}\n",
    "\n",
    "# Loop through the first 20 customers\n",
    "for customer_id in customer_profiles_encoded['CustomerID'].iloc[:20]:\n",
    "    top_lookalikes = get_top_lookalikes(customer_id, similarity_df)\n",
    "    lookalike_recommendations[customer_id] = list(top_lookalikes.items())\n",
    "\n",
    "# Convert the dictionary to a DataFrame\n",
    "lookalike_df = pd.DataFrame(lookalike_recommendations.items(), columns=['CustomerID', 'Lookalikes'])\n",
    "\n",
    "# Save the results to a CSV file\n",
    "lookalike_df.to_csv('Lookalike.csv', index=False)\n",
    "\n",
    "# Display the lookalike recommendations\n",
    "print(lookalike_df)"
   ]
  },
  {
   "cell_type": "code",
   "execution_count": null,
   "id": "c32f1400",
   "metadata": {},
   "outputs": [],
   "source": []
  }
 ],
 "metadata": {
  "kernelspec": {
   "display_name": "Python 3 (ipykernel)",
   "language": "python",
   "name": "python3"
  },
  "language_info": {
   "codemirror_mode": {
    "name": "ipython",
    "version": 3
   },
   "file_extension": ".py",
   "mimetype": "text/x-python",
   "name": "python",
   "nbconvert_exporter": "python",
   "pygments_lexer": "ipython3",
   "version": "3.11.5"
  }
 },
 "nbformat": 4,
 "nbformat_minor": 5
}
